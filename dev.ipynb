{
 "cells": [
  {
   "cell_type": "code",
   "execution_count": 4,
   "metadata": {},
   "outputs": [],
   "source": []
  },
  {
   "cell_type": "markdown",
   "metadata": {},
   "source": [
    "## Step 1.\n",
    "Create a .env file with the following:\n",
    "~~~bash\n",
    "export STRAVA_CLIENT_ID=\"xxxx\"\n",
    "export STRAVA_CLIENT_SECRET=\"xxxx\"\n",
    "~~~"
   ]
  },
  {
   "cell_type": "code",
   "execution_count": 18,
   "metadata": {},
   "outputs": [
    {
     "name": "stdout",
     "output_type": "stream",
     "text": [
      "The dotenv extension is already loaded. To reload it, use:\n",
      "  %reload_ext dotenv\n"
     ]
    }
   ],
   "source": [
    "%load_ext dotenv\n",
    "%dotenv\n",
    "\n",
    "import pandas as pd\n",
    "import plotly.express as px\n",
    "import os, requests\n",
    "import time\n",
    "import pickle"
   ]
  },
  {
   "cell_type": "markdown",
   "metadata": {},
   "source": [
    "## Step 2.\n",
    "Run the code and Click on the below link, you will get redirected. Copy and paste the code from the redirect link and fill in 'code = '''\n",
    "\n",
    "the redirect url will look like: http://127.0.0.1:5000/authorization?state=&code=xxxxxxxxxxxxxxxxxxxxxxxxxxxxxxxxxxxxxxx&scope=read,activity:read_all,profile:read_all,read_all\n",
    "\n",
    "you may need to click on the link bar to see the extended url"
   ]
  },
  {
   "cell_type": "code",
   "execution_count": 13,
   "metadata": {},
   "outputs": [
    {
     "data": {
      "text/plain": [
       "'https://www.strava.com/oauth/authorize?client_id=137744&redirect_uri=http%3A%2F%2F127.0.0.1%3A5000%2Fauthorization&approval_prompt=auto&scope=read_all%2Cprofile%3Aread_all%2Cactivity%3Aread_all&response_type=code'"
      ]
     },
     "execution_count": 13,
     "metadata": {},
     "output_type": "execute_result"
    }
   ],
   "source": [
    "from stravalib.client import Client\n",
    "\n",
    "client = Client()\n",
    "authorize_url = client.authorization_url(\n",
    "    client_id=os.environ['STRAVA_CLIENT_ID'], redirect_uri=\"http://localhost:8282/authorized\"\n",
    ")\n",
    "\n",
    "url = client.authorization_url(\n",
    "    client_id=os.environ['STRAVA_CLIENT_ID'], \n",
    "    redirect_uri='http://127.0.0.1:5000/authorization', \n",
    "    scope=['read_all','profile:read_all','activity:read_all'],\n",
    ")\n",
    "\n",
    "url"
   ]
  },
  {
   "cell_type": "code",
   "execution_count": 14,
   "metadata": {},
   "outputs": [
    {
     "name": "stderr",
     "output_type": "stream",
     "text": [
      "No rates present in response headers\n"
     ]
    }
   ],
   "source": [
    "CODE = '3a056f1bf3dced2c9b5eb2ffb82fbdabd92c56d7'\n",
    "access_token = client.exchange_code_for_token(\n",
    "    client_id=os.environ['STRAVA_CLIENT_ID'],\n",
    "    client_secret=os.environ['STRAVA_CLIENT_SECRET'], \n",
    "    code=CODE,\n",
    ")\n",
    "\n",
    "with open('./access_token.pickle', 'wb') as f:\n",
    "    pickle.dump(access_token, f)"
   ]
  },
  {
   "cell_type": "markdown",
   "metadata": {},
   "source": [
    "## Step 3.\n",
    "Load in access token"
   ]
  },
  {
   "cell_type": "code",
   "execution_count": 22,
   "metadata": {},
   "outputs": [
    {
     "name": "stdout",
     "output_type": "stream",
     "text": [
      "Latest access token read from file:\n"
     ]
    },
    {
     "data": {
      "text/plain": [
       "{'access_token': 'aa718201eb30b4f89190b16d0e287d7e5c89121c',\n",
       " 'refresh_token': 'f8f5b2b01e5b8e65ef7534bb790cd1afba070563',\n",
       " 'expires_at': 1729110698}"
      ]
     },
     "execution_count": 22,
     "metadata": {},
     "output_type": "execute_result"
    }
   ],
   "source": [
    "with open('./access_token.pickle', 'rb') as f:\n",
    "    access_token = pickle.load(f)\n",
    "    \n",
    "print('Latest access token read from file:')\n",
    "access_token"
   ]
  },
  {
   "cell_type": "code",
   "execution_count": 23,
   "metadata": {},
   "outputs": [
    {
     "name": "stdout",
     "output_type": "stream",
     "text": [
      "Token still valid, expires at Wed, 16 Oct 2024 16:31:38 EDT\n"
     ]
    }
   ],
   "source": [
    "if time.time() > access_token['expires_at']:\n",
    "    print('Token has expired, will refresh')\n",
    "    refresh_response = client.refresh_access_token(client_id=MY_STRAVA_CLIENT_ID, client_secret=MY_STRAVA_CLIENT_SECRET, refresh_token=access_token['refresh_token'])\n",
    "    access_token = refresh_response\n",
    "    with open('./access_token.pickle', 'wb') as f:\n",
    "        pickle.dump(refresh_response, f)\n",
    "    print('Refreshed token saved to file')\n",
    "    client.access_token = refresh_response['access_token']\n",
    "    client.refresh_token = refresh_response['refresh_token']\n",
    "    client.token_expires_at = refresh_response['expires_at']\n",
    "        \n",
    "else:\n",
    "    print('Token still valid, expires at {}'\n",
    "          .format(time.strftime(\"%a, %d %b %Y %H:%M:%S %Z\", time.localtime(access_token['expires_at']))))\n",
    "    client.access_token = access_token['access_token']\n",
    "    client.refresh_token = access_token['refresh_token']\n",
    "    client.token_expires_at = access_token['expires_at']"
   ]
  },
  {
   "cell_type": "markdown",
   "metadata": {},
   "source": [
    "## Step 4. Get Data"
   ]
  },
  {
   "cell_type": "code",
   "execution_count": 24,
   "metadata": {},
   "outputs": [
    {
     "name": "stdout",
     "output_type": "stream",
     "text": [
      "Athlete's name is Bradford Gill, based in San Francisco, United States\n"
     ]
    }
   ],
   "source": [
    "athlete = client.get_athlete()\n",
    "print(\"Athlete's name is {} {}, based in {}, {}\"\n",
    "      .format(athlete.firstname, athlete.lastname, athlete.city, athlete.country))"
   ]
  },
  {
   "cell_type": "code",
   "execution_count": 29,
   "metadata": {},
   "outputs": [
    {
     "data": {
      "text/plain": [
       "[SummaryActivity(bound_client=<stravalib.client.Client object at 0x1260e86b0>, id=12665226865, achievement_count=0, athlete=MetaAthlete(bound_client=None, id=2033770, resource_state=1), athlete_count=1, average_speed=3.073, average_watts=366.3, comment_count=0, commute=False, device_watts=True, distance=16124.5, elapsed_time=6000, elev_high=52.6, elev_low=4.0, end_latlng=LatLon(root=[42.04542095772922, -72.59876718744636]), external_id='garmin_ping_378057902474', flagged=False, gear_id='g19532103', has_kudoed=False, hide_from_home=None, kilojoules=1922.0, kudos_count=16, manual=False, map=Map(id='a12665226865', polyline=None, summary_polyline='yzt_Gz{~yLQdDBJt@P^Nv@LdCr@Xh@TZDTAx@MpAEbAU~CSbBWrAc@zA}@xBShAGxA\\\\jCCZOVo@RoC\\\\sF^_ANgCDGHCTKjDMfAErAUbBGXEJo@AeCSsDg@sDYs@O}@Cs@XsA_@qC]aBKcDa@qDWSIq@i@eCs@wAM}A?qAYkAAi@EEC|B@~AZfA?f@FjDr@XLv@j@p@H|DZ~Dj@dCR|A\\\\pCGr@LrLjAfATHJC^s@nCa@xB[lAGt@BZFVVZr@b@f@f@f@^`B`BhGhFvBtBr@b@v@ZdAHjF`AfKzAfEv@jGv@FPEr@@t@QbAE`BK|Ae@zB@l@Rd@`Aj@|D|@vBZPJDN?fAFx@ANOZ?LB\\\\Rd@@P_@Vq@Y[NI?[IWa@UWwAq@WE\\\\FhA`@|@`@^^`@Dn@Rl@a@JUA_AFQPSDMAw@Bc@P_@tIlAD?PSHODO@_AEo@Bu@Cm@BmAESY_@ESDUl@a@L]Hc@A[EKsB}Ao@Y_@UCGDE|@KRSJYp@{Cx@iE^}ADc@R}@dBqETmA?IAA]dBeA|Be@|Ak@zC_@|Aa@vBO~@Q`BO\\\\KLiCN_@CgHq@cAWcFo@cEYpBXdBJhJjAfDd@pBDjAMb@e@Ja@~@}DVuBv@gD[|@qArGc@zCEj@h@?d@EfANd@V~@L^?~@KVP^h@jAf@t@MX]L[HEJ@TVPF`@?^URDn@l@n@LJFBJATW|@Ij@OpBEnA@v@Jn@DrDFPHFf@?nAb@`CFd@EdA?d@SbEMLCDGKy@?_@BWRi@FuARoBH[Zw@Hw@HInBDjBGzDVh@Ab@LlAMj@S`@Cf@BxAVtAB~EZN?JGBU?[KeCK}AFeANyAJi@JgBN}@?k@F[DeAF[TkCPeAT}@z@_B@UYo@c@e@cGgDcDqAkB_@gAAiCVeAKo@?cGu@aBK}JKqDMiBN{HfAoDPWLIPI~@_@rBUlBSjAK`@qAbDOj@SbAUz@i@zC{@fEIn@Wr@@HJ?^yCVaAt@gEZiA\\\\mBb@qAt@_BVy@\\\\sCZiBFiBLUNK|AAzEg@rCa@~@UbBEXE_A@]JqAJcFt@kF\\\\SJOj@]vCMh@KhAUjAQl@aA|BQl@mBnIo@vDLu@f@sBZqB`AqEPm@l@yAAHk@rAw@|CgAtF'), max_speed=4.4, max_watts=502, moving_time=5247, name='Evening trails', photo_count=0, private=False, sport_type=RelaxedSportType(root='TrailRun'), start_date=datetime.datetime(2024, 10, 15, 21, 12, 16, tzinfo=TzInfo(UTC)), start_date_local=datetime.datetime(2024, 10, 15, 17, 12, 16, tzinfo=TzInfo(UTC)), start_latlng=LatLon(root=[42.054893262684345, -72.5780063867569]), timezone='(GMT-05:00) America/New_York', total_elevation_gain=30.0, total_photo_count=1, trainer=False, type=RelaxedActivityType(root='Run'), upload_id=13503402216, upload_id_str='13503402216', weighted_average_watts=353, workout_type=0),\n",
       " SummaryActivity(bound_client=<stravalib.client.Client object at 0x1260e86b0>, id=12641047845, achievement_count=0, athlete=MetaAthlete(bound_client=None, id=2033770, resource_state=1), athlete_count=2, average_speed=1.344, average_watts=123.6, comment_count=4, commute=False, device_watts=True, distance=51534.1, elapsed_time=46976, elev_high=1555.0, elev_low=352.2, end_latlng=LatLon(root=[44.18141487054527, -71.39873958192766]), external_id='garmin_ping_377284670495', flagged=False, gear_id='g19532103', has_kudoed=False, hide_from_home=None, kilojoules=4741.3, kudos_count=32, manual=False, map=Map(id='a12641047845', polyline=None, summary_polyline='uuslGdhxrLo@|CeG~E?r@|GB{AdBjOTzC~EtDvA`BcCzAp@fCkCvCCZZIrG_ExQwIdHoGpA{AtAkBnL_DvDe@`E}ErJGnEaCdBgD`BqAjEqCn@_AdDcBhADvC{JZ{@MScAgDvFeAUwBtA_BvFiCtCCrDyBdBwC`FcAjC_HxCu@dBsC~AgBRm@lC_CfBuDvI{F\\\\c@zEqAlF{FdKGlBuBvA}@|DyGxIsNzIwBlCeAzC_@lDe@JwAwBkA~AcSlDeBjBmFw@qAjBlAkBjFx@fBkB~RoDrA{AxFrI?pBvAjCt@rDVbEjAJG~@hCdDxBlLnElNdCl^s@rUyDfQi@rNB|EbCdOBnHqAfQ?~Ku@dGWdXHtJbDdJzElCDfIxREl@dB_C|KFnCp@vCb@AKdB|@lCF`HwApKl@lCg@~G~BnIChDyKvG_HzFcCxDkD~AmGdGsKrCwElDmJ`AqItCeDjCyH|AcBaDoHUeIiCkW~CsLgA{Gz@_AtBgDbAmEzFqGk@}GvAo@|@EdErC`M`AbPoHgF}AjAnArC`DhQV|H`DfG`@rHO`@yFuCcC\\\\~BbOOdI`@KItMpB~He@|BwCg@tAtIjEFtCoE|BgArDrApA{DzF}An@cC~FyExEaBrFHjF{FTcCt@m@bDq@xBwBxDh@tBoEtDf@tFtCdAfAhArErCjC~@dJKrHbA|F{@pCLzFnAvGe@`CuFtEeAtEoBdDTzPxAxGl@n@jHuCbDxJr@dFx@hC`A`@rDxFpJpBjE~F~E|OfMsAhAuClPaA`QeIlBIbIuEtD{CbF~@fKfFzAlBpB_@lAiFrG{LhIqAxD{B|L?xLwKbBmErCyN|@gBfFkBfEeCjDoOtF_KpAuGlKsG|GVxAiHw@qIuBwBwJWx@yH_DyLeQeOwSeIyFoLyEAvEKDqCjCyLYcDh@{E_BmCWaD_AcAAaBkFsPqAwAiDk@gB}DeH_EcAEwB_HHwHnC}TDwJeA_Hg@g@Ci@bBqDToFi@uBcGpB{CzCo@~BsF|@yEuA_KWqLmGuAHSw@cLIkB_ECiCg@JXs@_AgBOaDNeCtBwFe@sCrUwNfd@w]bVgL~RoDfXaKrPuMdBsChDyRlF}NRwB}@qFR_AoBmE}@kGLgDtBiHLgFiAkEyCqCm@eNwBiF?qEuEm_@aAaBiCw@u@{Dc@yM{AiAcCuJGiCwAcBt@kDKgErAaB`@{Ly@}C_Ag@}AaHEoHo@_EAkE`DmNfCqYzFwOlAuGCoFj@{BmAiCm@oE}AkAUkEh@aKaBaP?kGsAmDbI{GbDkNZaJeDWuDvC{Ag@wAtBcDmAyCcFmOUxAgBaHI@o@tCcBpBwB'), max_speed=4.838, max_watts=835, moving_time=38358, name='The whites are no joke…', photo_count=0, private=False, sport_type=RelaxedSportType(root='TrailRun'), start_date=datetime.datetime(2024, 10, 12, 10, 37, 20, tzinfo=TzInfo(UTC)), start_date_local=datetime.datetime(2024, 10, 12, 6, 37, 20, tzinfo=TzInfo(UTC)), start_latlng=LatLon(root=[44.1816118452698, -71.39875140041113]), timezone='(GMT-05:00) America/New_York', total_elevation_gain=3733.0, total_photo_count=2, trainer=False, type=RelaxedActivityType(root='Run'), upload_id=13477423289, upload_id_str='13477423289', weighted_average_watts=169, workout_type=0),\n",
       " SummaryActivity(bound_client=<stravalib.client.Client object at 0x1260e86b0>, id=12625073046, achievement_count=0, athlete=MetaAthlete(bound_client=None, id=2033770, resource_state=1), athlete_count=1, average_speed=3.061, average_watts=372.7, comment_count=2, commute=False, device_watts=True, distance=9373.8, elapsed_time=3546, elev_high=59.8, elev_low=13.0, end_latlng=LatLon(root=[42.0550337433815, -72.57780220359564]), external_id='garmin_ping_376761949710', flagged=False, gear_id='g19532103', has_kudoed=False, hide_from_home=None, kilojoules=1141.4, kudos_count=24, manual=False, map=Map(id='a12625073046', polyline=None, summary_polyline='wut_Ghz~yLEvAMr@I~@Kf@CR?LHNPHtAT^H`@?BB@JOdAM|AMdDMdBS|AY|AKV_@jAWf@[x@Uz@Gz@?n@TjCAd@ELUN}B`@qCVaF\\\\qADIBWCIDOrBGZAzBEz@u@|EeA|Em@`CCx@@JR^|@bAl@^\\\\\\\\f@\\\\dAdAh@^t@v@ZPb@\\\\h@f@j@j@fBxAv@t@f@\\\\x@Xb@BvATZHpB\\\\|BX~Bb@rAPbCf@p@Ff@JlCb@f@FdBHRDz@Fh@Lj@JR?TFlBXpBTHDb@HtBTh@Bp@?~@GdAMJAPBTGZBZJZ?l@Vx@LT@l@I^AXNVb@d@L^XL@f@E`@e@JUHEH@RTNFf@EXQXDf@`@FHt@RFDDJUhASl@InAG^C|@@fANt@Ah@DpC@LFLJBVGF@f@R\\\\Hf@FZ@NDn@?n@Id@@d@AFCLKFCx@?b@ER@^G`@A`@IFIBKAYIYDm@Ti@FWAo@FiAL{@`@eAFo@FSACOBgCOu@G_A[GGGKC]BWd@mDZaDBe@VqBV_B\\\\wCFyAb@wBLqAJa@N[TIXAb@DlADfA?TGXUNg@NcCJu@FaARgAHw@@mBKyAKq@KaB]eCWoCGgAKw@GcAYmCC_AYgCImGUeCM_@KIWC]FULEAGGA][?}A\\\\_@BcAX{@B_ALq@@}@EmADkAGiAJy@@y@EoADq@AWBg@C_A?m@IKHS`@OFMPC@_@@s@Ey@KsBOcBWcAEc@GWI{@G}@Os@Gm@K{@IcASkEk@q@ME?GFGf@AvAFj@?NKPOFMTDQZKFIFQ@SAsAB_ACKGEa@As@Ic@Am@Oe@GO?e@IU?IGCCAQLmB?WCSGGQGkC@[Cw@?WAqB?u@Co@Bo@Jc@@i@CqB_@IGCCCO?eARaCHmA'), max_speed=4.808, max_watts=504, moving_time=3062, name='1000 miles on the year 🎉🥳🎉', photo_count=0, private=False, sport_type=RelaxedSportType(root='TrailRun'), start_date=datetime.datetime(2024, 10, 10, 21, 31, 8, tzinfo=TzInfo(UTC)), start_date_local=datetime.datetime(2024, 10, 10, 17, 31, 8, tzinfo=TzInfo(UTC)), start_latlng=LatLon(root=[42.05529768951237, -72.57778208702803]), timezone='(GMT-05:00) America/New_York', total_elevation_gain=65.0, total_photo_count=0, trainer=False, type=RelaxedActivityType(root='Run'), upload_id=13460156632, upload_id_str='13460156632', weighted_average_watts=367, workout_type=0),\n",
       " SummaryActivity(bound_client=<stravalib.client.Client object at 0x1260e86b0>, id=12617170518, achievement_count=0, athlete=MetaAthlete(bound_client=None, id=2033770, resource_state=1), athlete_count=1, average_speed=3.428, average_watts=405.7, comment_count=0, commute=False, device_watts=True, distance=9539.5, elapsed_time=3807, elev_high=42.0, elev_low=31.4, end_latlng=LatLon(root=[42.33512174338102, -72.62163670733571]), external_id='garmin_ping_376503490937', flagged=False, gear_id='g13434479', has_kudoed=False, hide_from_home=None, kilojoules=1129.2, kudos_count=9, manual=False, map=Map(id='a12617170518', polyline=None, summary_polyline='kvkaG`vfzLmA_Ce@cAs@sA]{@c@y@IYo@mAg@qAU_@Sg@_AaBYq@i@}Ac@gBQaAWmB_@cCSiBa@_CW_CQkAGo@k@gDU_Ci@uCQeBGi@Qs@SuBSiAQ{@M_AGUKGHAEo@w@{FMo@KcAe@}COqAa@cCmAuJi@mD[_Ck@gDe@}Do@mDO{Ao@eEiAkISmBe@yC_@wCQy@[yBQ}Au@cFg@_Ei@iDmBmNWwAaA_Hc@kCEq@q@mFk@uDWqBu@gFg@}DUkAm@gFOq@MmA}@{FIw@UwAEo@]_B[qCm@{DUqB_@eCSgAYgCa@sBYw@_@q@IUa@iIQgBEIADf@jD`@rBAh@KTEVDP@n@@J\\\\l@`@dATbATnBZjB~@fHR`AXdC\\\\vBLbABd@Jb@N~@Ft@^vB`B`MVrAH`AV~AZ|B`AvGjChSBZZlBP|Ap@tDNjAVzAb@zCRlB^vB^vCTtAP~AXvAJfArAhJb@jDb@lCV`Cp@xE^zBX|B^xBXvBTpA`CpQf@`Dh@zDPxAlCfR\\\\nC`AjGn@|ELn@l@zEP|@hArIf@rDVvAn@zEh@hCb@tAr@`Bh@`AbA~B`CtE^z@z@`BhAhCl@jA'), max_speed=6.054, max_watts=626, moving_time=2783, name='Afternoon Run', photo_count=0, private=False, sport_type=RelaxedSportType(root='Run'), start_date=datetime.datetime(2024, 10, 9, 20, 5, 50, tzinfo=TzInfo(UTC)), start_date_local=datetime.datetime(2024, 10, 9, 16, 5, 50, tzinfo=TzInfo(UTC)), start_latlng=LatLon(root=[42.33548945747316, -72.62153243646026]), timezone='(GMT-05:00) America/New_York', total_elevation_gain=15.0, total_photo_count=0, trainer=False, type=RelaxedActivityType(root='Run'), upload_id=13451687715, upload_id_str='13451687715', weighted_average_watts=389, workout_type=None),\n",
       " SummaryActivity(bound_client=<stravalib.client.Client object at 0x1260e86b0>, id=12605913498, achievement_count=0, athlete=MetaAthlete(bound_client=None, id=2033770, resource_state=1), athlete_count=2, average_speed=1.664, average_watts=223.8, comment_count=1, commute=False, device_watts=True, distance=10019.6, elapsed_time=6179, elev_high=323.8, elev_low=58.8, end_latlng=LatLon(root=[42.30600896291435, -72.53265928477049]), external_id='garmin_ping_376165880269', flagged=False, gear_id='g19532103', has_kudoed=False, hide_from_home=None, kilojoules=1348.1, kudos_count=24, manual=False, map=Map(id='a12605913498', polyline=None, summary_polyline='gheaG|ytyLZO~@@|@VVNXt@YNc@OQn@U??PWX]C@LQVEd@QN@RWVO^F^WDML?NqAPAd@M?PFI|@_@l@JRUl@Rp@@d@Gb@]\\\\?^Y|CGR@lCCv@KR@j@Id@[TBXP`@Md@Bv@J`AMvAKh@AXJf@GlAITVVGp@FZS`@QrAMXN^Db@\\\\z@[EUJCt@[vAAbASnBUrA_@TKVFTKXAd@Z`@B\\\\HCJNQb@@LO`@DLWJQn@g@r@?t@Ib@BZQz@DD?\\\\KJIj@@Ln@\\\\Jb@CXF\\\\Xn@f@Vh@HHHBd@Cb@D\\\\EZDVOxAHr@G`@FjBEDLjA?l@JZMJ?l@KTFJ?x@[HB\\\\Pl@?nAYdBKT@f@j@|@p@b@JTG~BFrBh@N~A@NKd@HJTj@F`@d@^Br@p@HVz@h@~AAf@X~AMr@[z@D\\\\I~ALb@x@nAXhAbAl@QdABf@]RH^EXRr@FXZVr@A~ANj@?x@P~@nBvAj@~Av@hAp@tB~@p@Jz@x@XhA|DTDt@SHDAZo@xB]hBw@nCg@jCV~BHxBKHq@@|@BZdAD|BOnAIdBKPo@PKPIlGIRoAZSXM@O_Aa@Y@cAKm@?g@d@qBBa@GSa@]UgAYa@Cu@Sc@IgAQm@Ne@KsADy@J_@IcABk@Xy@TSJ}@E_ENk@Oq@?mAT]f@AJMMu@FeA]S^H^c@`BDJM?SW]u@e@K}@[c@So@c@i@c@{Ag@g@aAe@[a@EcBQu@DoAOs@_@g@w@KWUQ?@HKDc@Mc@Z]GgAVoAkAa@@k@UOMMe@UK}CAeAZwALq@WsABeAo@u@aAe@Ia@c@i@GSYm@D}AEq@QA}BF{BaAs@g@s@EUDc@Rm@HuA]a@_ANa@s@i@E_@s@Mq@u@i@Mi@_AyAOi@QgCMa@m@[_@{@AMLa@GoBPq@i@{@gAc@cAmA?cANiB^k@Lg@QCi@^GGAQv@}@b@WDcCn@Wp@wBt@cA`@oAFy@Tm@LcADq@OsA@u@i@i@IeAg@{ADw@OcEBa@Ms@VQx@Bh@R`@EPUJcATe@D_@Ag@KUmAq@gAQ[Jy@K]qAy@iB\\\\}BjAu@Vu@`@_A'), max_speed=4.026, max_watts=653, moving_time=6023, name='Lithia springs foliage 🍁 🍂', photo_count=0, private=False, sport_type=RelaxedSportType(root='TrailRun'), start_date=datetime.datetime(2024, 10, 8, 12, 37, 6, tzinfo=TzInfo(UTC)), start_date_local=datetime.datetime(2024, 10, 8, 8, 37, 6, tzinfo=TzInfo(UTC)), start_latlng=LatLon(root=[42.30529775843024, -72.52873160876334]), timezone='(GMT-05:00) America/New_York', total_elevation_gain=519.0, total_photo_count=2, trainer=False, type=RelaxedActivityType(root='Run'), upload_id=13439745314, upload_id_str='13439745314', weighted_average_watts=244, workout_type=0),\n",
       " SummaryActivity(bound_client=<stravalib.client.Client object at 0x1260e86b0>, id=12601182812, achievement_count=0, athlete=MetaAthlete(bound_client=None, id=2033770, resource_state=1), athlete_count=2, average_speed=2.303, average_watts=281.0, comment_count=0, commute=False, device_watts=True, distance=10949.4, elapsed_time=5330, elev_high=21.0, elev_low=3.8, end_latlng=LatLon(root=[42.04513370990753, -72.59872913360596]), external_id='garmin_ping_375997675108', flagged=False, gear_id='g19532103', has_kudoed=False, hide_from_home=None, kilojoules=1336.3, kudos_count=17, manual=False, map=Map(id='a12601182812', polyline=None, summary_polyline='uwr_G~mbzLdAHz@OPBXR\\\\h@h@N`@Vf@IXSv@Sr@DRGRSJ@~@x@V@d@XBNa@xAO|@OhDN~AC`@LfDt@AdA`@lBVrAOt@@VSTABNC|@Xn@]bA?bBDp@Rp@Cd@NNt@NCC@FH@n@?`@JNKZNlBE`@NpAElCTRK~@FRJf@Kn@PnAGdADb@PZIn@Lz@KvCNJEFBADF@d@IrFLz@TfAJf@Pe@KGGAOAPSAaAUe@?oBW{AAgBLIGoCM[Fe@IADY?a@IQHIGwAKkAFg@Ms@FaBQOFm@AwASwAFQGk@?UFc@Ao@U?HK@]Mu@@EISIc@CQeAMWCuC\\\\mAWg@@}@DQJKjB?p@E\\\\M@i@GQASDc@Rk@@eAFu@Z_BXu@F{@PKbF?hERr@LrCc@h@@jBZj@ArG\\\\bAbAFRLLn@hAVv@\\\\VZHrD?dAhALZt@RPRJRPp@EFGVAZOVNn@I`@Bm@M]?GNSDa@L[MUEW]c@[QLOJk@RIr@FTEFQ@_@Xg@GQ^}@B[l@H\\\\P`@YH@DPXI@BMrAHd@RXC^XlALjCHd@bAlBv@Pn@HXGXYLYJo@JK~AHn@E\\\\I~BuAdEgFvAuAn@uA^cA]lAp@\\\\VVp@LVXXjABn@PbAQ\\\\eAn@gBj@DXLhBBJJDz@@LG\\\\o@d@L\\\\YWTm@CYh@WHwAG_@Vc@IUVO?Ma@?S`@q@L]DqAH{@g@SoACKIE_@KCKF{ApBa@\\\\{A~@_AZ_@DwBKI[@YVyB`@aB`@wCj@eARo@RwAAiAEw@Og@USeA[QWQo@g@L{@[O`@k@BQf@U^q@RIFGTe@VQXW`AExADh@Pz@AJ[JCKKCa@V]Qk@KE^]|@FJ]h@?VENOHu@EODIHKf@KJ[Ca@w@YOSYeBImAHo@SOO_@iA_@o@QOK[aAeA_@@aH]wC[qCb@k@MkESmF@KNEt@a@`AOdAK|@@bASd@Kj@Nl@A`@QJu@JmBCKHKVG\\\\@RZx@[p@ET@`BFv@Ic@AqBb@iA_@m@?WJq@AKQ?[Tw@Cs@Hi@Es@BgAQk@]q@HIKGcAEyA@k@Is@Ao@JmB@k@n@_DCQc@QWEe@e@]Sa@Ta@DSES[KAq@|@s@Pc@[e@K[g@[WqAL{AS'), max_speed=4.954, max_watts=583, moving_time=4755, name='Sunset trails 🌅', photo_count=0, private=False, sport_type=RelaxedSportType(root='TrailRun'), start_date=datetime.datetime(2024, 10, 7, 21, 6, 14, tzinfo=TzInfo(UTC)), start_date_local=datetime.datetime(2024, 10, 7, 17, 6, 14, tzinfo=TzInfo(UTC)), start_latlng=LatLon(root=[42.0450006891042, -72.5986663531512]), timezone='(GMT-05:00) America/New_York', total_elevation_gain=69.0, total_photo_count=0, trainer=False, type=RelaxedActivityType(root='Run'), upload_id=13434680924, upload_id_str='13434680924', weighted_average_watts=286, workout_type=0),\n",
       " SummaryActivity(bound_client=<stravalib.client.Client object at 0x1260e86b0>, id=12584671670, achievement_count=0, athlete=MetaAthlete(bound_client=None, id=2033770, resource_state=1), athlete_count=1, average_speed=2.266, average_watts=296.2, comment_count=0, commute=False, device_watts=True, distance=16304.2, elapsed_time=7305, elev_high=2036.8, elev_low=1945.6, end_latlng=LatLon(root=[35.2618825994432, -105.44722560793161]), external_id='garmin_ping_375456279997', flagged=False, gear_id='g19532103', has_kudoed=False, hide_from_home=None, kilojoules=2131.1, kudos_count=19, manual=False, map=Map(id='a12584671670', polyline=None, summary_polyline='yuevEdmqbSH]Cs@BQFGTMDI@@C?NABD?C?B?MD@HKHm@Vw@XoAHo@FICLFW[nAO~@Wx@AJGV?BKRGB?CUNAAADWRETDX?ZKXW\\\\SHa@@o@CwCA@@E?s@b@IJAFAC@?GH?ZDP@PAHC?EA?I@B?DB?HID@XNPDt@d@PpAHfAHr@AZc@j@o@h@o@TQNKd@IbAChAHp@L^jAjC^nAB^APc@~@?DBHnC~AvGfEx@b@n@d@`DvBx@d@dCbBRHv@l@pKfHbCzArBtAdBdAj@b@rH~ErBxAh@Z~DlChBhAlEzCJFRPNJDFnHzEvB|ARh@?~A@d@?xEBxCGfF@zBCl@BRAD@VC`@@|BEDA_JDaDAg@@cCCiEBw@CoB@{ADkA?gBAk@@uBAq@DMRITA|GFnFCvBBTHLNBHDh@Ch@DNHB\\\\Ap@@LEDQA{ADa@BCNEvG@p@AbKDdNECB_A@y@AgB@SDy@EkABQASBy@CUB_@Cs@?]A_A@KCCBgICgBBeAEKBKJCV?|@Cj@MLKBqAEGKA_AE]OU_@OwA?a@AMBe@Cu@B[AG@_@E_@BKCq@B_CC]DgB@QHEF?LB|BCbBBzACR@TFVh@d@f@ZPF^Zl@\\\\XVl@ZvBzAdFbDNNj@Zj@f@?C?B@EzItFrGnEvE`EfAx@XXpC~BrCfCjAbBr@jBZ`B`@pCr@dEZnAt@~B~@jBtC~E`@l@bCbECAAIFK?BEF}@sAOKGIS]?Ia@s@[g@KEKMEKkB_Do@qAGGe@gAg@_B]wA}@oFYuBYsAk@wAm@cAY_@e@g@_@Wk@k@cDmCq@o@wD_Do@g@Y[eBoAyDiC{@e@a@[eAo@qBsAaBaAaD}B_@Qw@k@{DgCSOMQa@YoAw@KCUK}B}AmBwAyA_AiBqAu@e@s@g@{@k@iAy@wA_Ai@a@}CmB[YsDcCUKu@m@{A}@[WuA}@kA{@E?sAaAkN{I{AgA_DqBGG@EAB@AC?oBsAGC?E@@C@i@[eH{Ew@a@eCaBi@YsEqCkD{Bg@UYYqAy@_CkAYUk@YSG}BcAa@MaE{AaCs@MAADI?{@Wk@Gq@U]CWIUAa@MuDs@aC[MIUE_AIcEMFDV@rABRGx@BlBTx@Lp@F^JjAP~A^d@FxGzA|Br@`FhBtB|@dDdB'), max_speed=3.938, max_watts=488, moving_time=7195, name='Lunch Trail Run', photo_count=0, private=False, sport_type=RelaxedSportType(root='TrailRun'), start_date=datetime.datetime(2024, 10, 5, 18, 0, 41, tzinfo=TzInfo(UTC)), start_date_local=datetime.datetime(2024, 10, 5, 12, 0, 41, tzinfo=TzInfo(UTC)), start_latlng=LatLon(root=[35.26173365302384, -105.44442839920521]), timezone='(GMT-07:00) America/Denver', total_elevation_gain=162.0, total_photo_count=0, trainer=False, type=RelaxedActivityType(root='Run'), upload_id=13416776415, upload_id_str='13416776415', weighted_average_watts=295, workout_type=0),\n",
       " SummaryActivity(bound_client=<stravalib.client.Client object at 0x1260e86b0>, id=12575601841, achievement_count=0, athlete=MetaAthlete(bound_client=None, id=2033770, resource_state=1), athlete_count=1, average_speed=2.371, average_watts=301.7, comment_count=1, commute=False, device_watts=True, distance=16895.4, elapsed_time=8238, elev_high=2098.6, elev_low=1988.0, end_latlng=LatLon(root=[35.26148898527026, -105.44450283050537]), external_id='garmin_ping_375216292148', flagged=False, gear_id='g19532103', has_kudoed=False, hide_from_home=None, kilojoules=2149.9, kudos_count=19, manual=False, map=Map(id='a12575601841', polyline=None, summary_polyline='uuevEljqbSBO^[CMOQKCS@a@Uc@EyAk@eAu@]EaANWAYRaAHILC`@GPWZUL]H{AEy@BMDGDQ^Qr@Wr@@VRPl@Dj@LV@TJ`@D~@TRT@`@Z~@`@h@?LTXDNVL?PJ\\\\Jn@KNDB?HEz@Kv@?VCCJ?@IFEH@BFOz@B?IhA@t@Vv@nApCVz@F`@?PI^KF@F]ZMA[MuDaC_DeBqEsBcFkBgDaA_Cc@iCm@{E}@cFk@_S_@oCMoAOKDaA|A]`A[pACRCn@FvAPvAp@zA^zATvAF~@EjBBPEX?|AItAGDCVi@nAMb@CXBb@j@vCJfBDTtDdF\\\\x@Jv@?l@ATUrAM`A?VHbATd@RJtAb@nExBrEjDRZF\\\\ErBB^Rl@PZRRrAd@xAhAj@ZdAVf@?^A^K`@?dDp@|@YL?DHL?TKGAKJe@?g@TM@uCm@w@CmANu@Ks@UcAu@m@_@eBu@KKS]Uy@Es@DaA?c@M_@IK_E}C[O@A@BuDoBsBo@Y[Mc@Cy@Dq@^iCC}@E_@Ma@[o@gCiDDRIW_@m@I]I}Ac@mBIe@A_Av@iBTkAAc@Fq@FsDCkAa@aCiAaDKe@MyCFs@Lg@b@sAv@oAN_@LMNEtBX`ADzKTfC?lETbHdA~IlB`D~@tGfCfAd@dExBzOtJt@h@dB`A|I`GkCcBiCiB}LqHu@k@?INKVk@Be@Kc@]aAyAgDE{@B{@JgALe@TSTIr@a@b@e@L[BUKq@Eq@GUKoAeAg@q@OVA`Ab@d@ZDPBz@VdB@^Sb@m@n@_@Ta@LQLOb@O|ABhAD`@`BxD\\\\xAAVS\\\\AA@DSXMDeAo@m@UcBiAgDiBeGkCiGyBoD{@{AUQEBCC?B?kAOaCi@{Fu@oP]m@GkEIwKuAgBa@kB{@}AiAkEqC{@a@WCe@OeCGoBNyA^iAj@m@PiB\\\\k@Hu@Ag@FgBMw@O[My@w@[e@GIYo@BBESWc@x@dBx@dAl@`@tA\\\\bBFVEz@Ad@ExCs@~@i@zBm@`BCjBBz@P|Ar@zAdAVJrA|@jAz@tAr@dA\\\\jDh@`Hz@dDFd@E~IV|@AhCFfGp@zB`@vA\\\\dDl@jEhA~HrC|BdAxC~AfBdAvClBJDJCLMBECAVc@BQAOi@eBqAwCMo@?s@'), max_speed=3.758, max_watts=2116, moving_time=7127, name='Afternoon Run', photo_count=0, private=False, sport_type=RelaxedSportType(root='TrailRun'), start_date=datetime.datetime(2024, 10, 4, 20, 20, 58, tzinfo=TzInfo(UTC)), start_date_local=datetime.datetime(2024, 10, 4, 14, 20, 58, tzinfo=TzInfo(UTC)), start_latlng=LatLon(root=[35.261716386303306, -105.44398315250874]), timezone='(GMT-07:00) America/Denver', total_elevation_gain=262.0, total_photo_count=0, trainer=False, type=RelaxedActivityType(root='Run'), upload_id=13408117515, upload_id_str='13408117515', weighted_average_watts=305, workout_type=0),\n",
       " SummaryActivity(bound_client=<stravalib.client.Client object at 0x1260e86b0>, id=12560150951, achievement_count=0, athlete=MetaAthlete(bound_client=None, id=2033770, resource_state=1), athlete_count=2, average_speed=2.511, average_watts=288.8, comment_count=0, commute=False, device_watts=True, distance=8055.7, elapsed_time=3845, elev_high=23.4, elev_low=13.2, end_latlng=LatLon(root=[42.04517972655594, -72.5981724075973]), external_id='garmin_ping_374705386690', flagged=False, gear_id='g19532103', has_kudoed=False, hide_from_home=None, kilojoules=926.3, kudos_count=22, manual=False, map=Map(id='a12560150951', polyline=None, summary_polyline='swr_GvmbzLVDB@\\\\@z@Cb@IPHVXL^HD^Bd@`@DGFE^A`@i@FSHGNBPZJBj@CRULA^V^h@B@?CV@XLJN?FSh@Kh@M`@Gf@@p@GZEzA@l@Lj@?h@Dl@DvBDDB?ZGNAHBVPFBb@Hp@FZFLAr@AVINAz@FDALMHCF@DDEb@A`@FXRT@NYp@GVBp@Al@Dn@LTFx@JP?CTBI?GECBMGSCa@@CA@ECBCKE@?CUL]DQGi@?^CL?LDf@GFEAQDCFP?HBJTGPDBAH@@CG_ACGEAEOBUE{BDWVi@@KEOSWCK@g@BYFGHCb@@jBK\\\\EHCDG?ME[IY@KHg@L[F[Eq@FURmBDQXo@FW@g@BIDCjB@f@Cv@@n@Ad@DdAD`CTtAMn@SLA\\\\@\\\\FjAT|@?vETLFHP@ZAzALh@?XARM^E~@Kd@Fa@@[DSAODQJWB_@AKOi@@oACi@@EPKL?LDLRVRRXJTLNp@rAPn@LLTJRDZAR@h@EZBf@E\\\\FB@JRVPRVNb@FFNANMFYDQFEPCVFR?TCDEBi@Vi@B@CKA@AGBACB@A@DDIA?AIXq@B_@BAAYLMBKEc@Wu@Am@B_@Ee@ISOKEIGs@MSQs@KOBERj@BZEPCCGFANKKADE?GP@GBEAH?GDGFA@@@C?@H@TUKKAUQg@AKH_@D_@ZaA?YIYA[UOEk@Wa@Wk@o@a@e@w@e@mASgASs@OSOK][Mi@kAeBKYW@MEUc@WWs@k@YQs@[_@W_Aa@a@YuAo@}Bw@}AUWAe@De@DOFu@FkAEGEQBoAMWG[BILIpAE|AGPBFAVEVSZULa@FeAC[EeA?a@BULMVo@|DE`@Ez@w@tGI\\\\QpA_AnIQ`AF`@FLNHVD^LhAJRD~A@FDDFATE`@EPWj@Y|A?^G`@B`@AZO\\\\Op@@HJRFh@MJwAP{ACa@DURc@Bc@Cu@HMAWIk@cAGOES?m@FoBK{@Qw@M_@SmAEwABu@EGYG[Mk@c@KCSAi@k@QIM@SNk@BKCSYKCKHQZ?DVAPGJIAGGIIEE@GDIRa@d@q@Li@[a@O]i@KIME[@[Hm@AcAQYSU@s@KS?QFOEQAm@Bu@LY?a@BQCe@?WGi@E_@I}AQ}AOu@MgBUxAT'), max_speed=3.954, max_watts=450, moving_time=3208, name='Run with maple', photo_count=0, private=False, sport_type=RelaxedSportType(root='TrailRun'), start_date=datetime.datetime(2024, 10, 2, 21, 8, 10, tzinfo=TzInfo(UTC)), start_date_local=datetime.datetime(2024, 10, 2, 17, 8, 10, tzinfo=TzInfo(UTC)), start_latlng=LatLon(root=[42.04497436992824, -72.59869820438325]), timezone='(GMT-05:00) America/New_York', total_elevation_gain=37.0, total_photo_count=2, trainer=False, type=RelaxedActivityType(root='Run'), upload_id=13391546605, upload_id_str='13391546605', weighted_average_watts=282, workout_type=0),\n",
       " SummaryActivity(bound_client=<stravalib.client.Client object at 0x1260e86b0>, id=12552298658, achievement_count=0, athlete=MetaAthlete(bound_client=None, id=2033770, resource_state=1), athlete_count=1, average_speed=3.387, average_watts=406.4, comment_count=15, commute=False, device_watts=True, distance=24173.0, elapsed_time=7709, elev_high=55.8, elev_low=16.8, end_latlng=LatLon(root=[42.05499518662691, -72.577766161412]), external_id='garmin_ping_374458746927', flagged=False, gear_id='g13434479', has_kudoed=False, hide_from_home=None, kilojoules=2901.2, kudos_count=38, manual=False, map=Map(id='a12552298658', polyline=None, summary_polyline='_ut_Gxy~yLi@zFG|AKP{Du@wAIuA_@IODuACSBGpB`AdAZHI\\\\mJd@aJDc@NWHe@GMCHGzAdAqUEKQIaEq@KEEYxBmXP_DEYSQaEi@}Ba@c@QaAMw@AGO?yGoTPKAMQGYCs@EKqFl@IFAJ@~AClAITQV{Af@aB\\\\}C@WJAV`@fBFh@@v@GbBO`@c@^{Bv@IIAQ[yHWkAWmFQOqADaAS[OU]Mo@F}BCwDMWmEDqAUcC{@m@E]DOJU\\\\Sz@Ar@TtBEp@M\\\\WVaAb@oBn@c@^Of@In@Ff@Ph@b@h@ZJ`@AhAy@l@?p@d@dA|AZPt@FZLNNNb@@f@Q~AITOPYF{BB}@Hu@ZgAp@q@PaBEq@d@U~@Bl@Nd@dBfC|@pBfAlDTbAf@rARZ^ZHR@V[dCMrBy@bJZPlF`@HKNwBb@kED{@Ck@l@wGEGyAH]m@OaDG{E@kBFs@ZaA@iA\\\\mCTqC`@aCP{CT_C@u@Z{@R{AL}AFmCFKVIzACvCNtBU|DiAv@s@FUCO_AqASq@MaAQsDSaHQyBi@eKEwADcADOJEvB@jEb@z@_@Xi@Ds@Aa@a@eDEsAFq@b@o@n@Sj@Hd@b@XdALfAj@dD\\\\tCCp@G`@g@lASt@@l@b@bArDzFpAnArCtAnAPv@CvK`ALHXr@Df@UjGCb^LHhK~An@VJZSvDwAzQYlEDJNFdBR|A\\\\LNDTE|BUhDStEO~@GrAMn@QTLFFZB~@i@bNOtBB\\\\nCr@JAFK`@yEFaFf@uKCOIGsCSKJ[~AKJHJJl@@j@_AfSHTnA\\\\r@j@fDh@XTDVCx@_@~GWfBUlAc@zA}@vBU~@IrAFhATnBC^OJeAPeCXqEVqBTmB@IZAvBUdF@`@Rf@ZNbIjA`ObBjDPjJz@|EPj]p@tGDlDS|F{@~CUpNRzGd@h@MHFGVM@}Cg@iBMePUcCRiBRqEx@gBFyIE}Vc@K@IPIbAPGI?JBEHMDCYJ{@AMICqHQcCOaVuBaRcCWDUxAqBbJGj@Ff@hCdCx@l@pGtFtEhElA^hEn@`@RBEQKeF}@yAk@aFqE_LgJ]i@Em@jAuFdAyEN[tOxBnBHrEd@vIn@\\\\DBH]@{H{@kIo@{MgBg@[[u@?aAH_BhIwGbHs@h@MHMCcAO_AG{@DuAN_Av@aBdAyDTiBVoDPaE?u@GU_Ca@[Q@m@b@kE?o@'), max_speed=4.332, max_watts=513, moving_time=7138, name='Fuck it, half marathon PR on a Tuesday', photo_count=0, private=False, sport_type=RelaxedSportType(root='Run'), start_date=datetime.datetime(2024, 10, 1, 21, 2, 54, tzinfo=TzInfo(UTC)), start_date_local=datetime.datetime(2024, 10, 1, 17, 2, 54, tzinfo=TzInfo(UTC)), start_latlng=LatLon(root=[42.055158549919724, -72.5777936540544]), timezone='(GMT-05:00) America/New_York', total_elevation_gain=74.0, total_photo_count=1, trainer=False, type=RelaxedActivityType(root='Run'), upload_id=13383159529, upload_id_str='13383159529', weighted_average_watts=401, workout_type=0)]"
      ]
     },
     "execution_count": 29,
     "metadata": {},
     "output_type": "execute_result"
    }
   ],
   "source": [
    "activities = list(client.get_activities(limit=100))\n",
    "activities[0:10]"
   ]
  },
  {
   "cell_type": "code",
   "execution_count": 26,
   "metadata": {},
   "outputs": [],
   "source": [
    "my_cols =['name',\n",
    "          'start_date_local',\n",
    "          'type',\n",
    "          'distance',\n",
    "          'moving_time',\n",
    "          'elapsed_time',\n",
    "          'total_elevation_gain',\n",
    "          'elev_high',\n",
    "          'elev_low',\n",
    "          'average_speed',\n",
    "          'max_speed',\n",
    "          'average_heartrate',\n",
    "          'max_heartrate',\n",
    "          'start_latlng',]"
   ]
  },
  {
   "cell_type": "code",
   "execution_count": 33,
   "metadata": {},
   "outputs": [],
   "source": [
    "data = []\n",
    "for activity in activities:\n",
    "    my_dict = dict(activity)\n",
    "    data.append([activity.id]+[my_dict.get(x) for x in my_cols])\n",
    "    \n",
    "# Add id to the beginning of the columns, used when selecting a specific activity\n",
    "my_cols.insert(0,'id')"
   ]
  },
  {
   "cell_type": "code",
   "execution_count": 34,
   "metadata": {},
   "outputs": [
    {
     "data": {
      "text/html": [
       "<div>\n",
       "<style scoped>\n",
       "    .dataframe tbody tr th:only-of-type {\n",
       "        vertical-align: middle;\n",
       "    }\n",
       "\n",
       "    .dataframe tbody tr th {\n",
       "        vertical-align: top;\n",
       "    }\n",
       "\n",
       "    .dataframe thead th {\n",
       "        text-align: right;\n",
       "    }\n",
       "</style>\n",
       "<table border=\"1\" class=\"dataframe\">\n",
       "  <thead>\n",
       "    <tr style=\"text-align: right;\">\n",
       "      <th></th>\n",
       "      <th>id</th>\n",
       "      <th>name</th>\n",
       "      <th>start_date_local</th>\n",
       "      <th>type</th>\n",
       "      <th>distance</th>\n",
       "      <th>moving_time</th>\n",
       "      <th>elapsed_time</th>\n",
       "      <th>total_elevation_gain</th>\n",
       "      <th>elev_high</th>\n",
       "      <th>elev_low</th>\n",
       "      <th>average_speed</th>\n",
       "      <th>max_speed</th>\n",
       "      <th>average_heartrate</th>\n",
       "      <th>max_heartrate</th>\n",
       "      <th>start_latlng</th>\n",
       "    </tr>\n",
       "  </thead>\n",
       "  <tbody>\n",
       "    <tr>\n",
       "      <th>0</th>\n",
       "      <td>12665226865</td>\n",
       "      <td>Evening trails</td>\n",
       "      <td>2024-10-15 17:12:16+00:00</td>\n",
       "      <td>root='Run'</td>\n",
       "      <td>16124.5</td>\n",
       "      <td>5247</td>\n",
       "      <td>6000</td>\n",
       "      <td>30.0</td>\n",
       "      <td>52.6</td>\n",
       "      <td>4.0</td>\n",
       "      <td>3.073</td>\n",
       "      <td>4.400</td>\n",
       "      <td>None</td>\n",
       "      <td>None</td>\n",
       "      <td>root=[42.054893262684345, -72.5780063867569]</td>\n",
       "    </tr>\n",
       "    <tr>\n",
       "      <th>1</th>\n",
       "      <td>12641047845</td>\n",
       "      <td>The whites are no joke…</td>\n",
       "      <td>2024-10-12 06:37:20+00:00</td>\n",
       "      <td>root='Run'</td>\n",
       "      <td>51534.1</td>\n",
       "      <td>38358</td>\n",
       "      <td>46976</td>\n",
       "      <td>3733.0</td>\n",
       "      <td>1555.0</td>\n",
       "      <td>352.2</td>\n",
       "      <td>1.344</td>\n",
       "      <td>4.838</td>\n",
       "      <td>None</td>\n",
       "      <td>None</td>\n",
       "      <td>root=[44.1816118452698, -71.39875140041113]</td>\n",
       "    </tr>\n",
       "    <tr>\n",
       "      <th>2</th>\n",
       "      <td>12625073046</td>\n",
       "      <td>1000 miles on the year 🎉🥳🎉</td>\n",
       "      <td>2024-10-10 17:31:08+00:00</td>\n",
       "      <td>root='Run'</td>\n",
       "      <td>9373.8</td>\n",
       "      <td>3062</td>\n",
       "      <td>3546</td>\n",
       "      <td>65.0</td>\n",
       "      <td>59.8</td>\n",
       "      <td>13.0</td>\n",
       "      <td>3.061</td>\n",
       "      <td>4.808</td>\n",
       "      <td>None</td>\n",
       "      <td>None</td>\n",
       "      <td>root=[42.05529768951237, -72.57778208702803]</td>\n",
       "    </tr>\n",
       "    <tr>\n",
       "      <th>3</th>\n",
       "      <td>12617170518</td>\n",
       "      <td>Afternoon Run</td>\n",
       "      <td>2024-10-09 16:05:50+00:00</td>\n",
       "      <td>root='Run'</td>\n",
       "      <td>9539.5</td>\n",
       "      <td>2783</td>\n",
       "      <td>3807</td>\n",
       "      <td>15.0</td>\n",
       "      <td>42.0</td>\n",
       "      <td>31.4</td>\n",
       "      <td>3.428</td>\n",
       "      <td>6.054</td>\n",
       "      <td>None</td>\n",
       "      <td>None</td>\n",
       "      <td>root=[42.33548945747316, -72.62153243646026]</td>\n",
       "    </tr>\n",
       "    <tr>\n",
       "      <th>4</th>\n",
       "      <td>12605913498</td>\n",
       "      <td>Lithia springs foliage 🍁 🍂</td>\n",
       "      <td>2024-10-08 08:37:06+00:00</td>\n",
       "      <td>root='Run'</td>\n",
       "      <td>10019.6</td>\n",
       "      <td>6023</td>\n",
       "      <td>6179</td>\n",
       "      <td>519.0</td>\n",
       "      <td>323.8</td>\n",
       "      <td>58.8</td>\n",
       "      <td>1.664</td>\n",
       "      <td>4.026</td>\n",
       "      <td>None</td>\n",
       "      <td>None</td>\n",
       "      <td>root=[42.30529775843024, -72.52873160876334]</td>\n",
       "    </tr>\n",
       "    <tr>\n",
       "      <th>...</th>\n",
       "      <td>...</td>\n",
       "      <td>...</td>\n",
       "      <td>...</td>\n",
       "      <td>...</td>\n",
       "      <td>...</td>\n",
       "      <td>...</td>\n",
       "      <td>...</td>\n",
       "      <td>...</td>\n",
       "      <td>...</td>\n",
       "      <td>...</td>\n",
       "      <td>...</td>\n",
       "      <td>...</td>\n",
       "      <td>...</td>\n",
       "      <td>...</td>\n",
       "      <td>...</td>\n",
       "    </tr>\n",
       "    <tr>\n",
       "      <th>95</th>\n",
       "      <td>11842205465</td>\n",
       "      <td>Afternoon Mountain Bike Ride</td>\n",
       "      <td>2024-07-08 17:59:32+00:00</td>\n",
       "      <td>root='Ride'</td>\n",
       "      <td>4370.2</td>\n",
       "      <td>1914</td>\n",
       "      <td>2504</td>\n",
       "      <td>158.0</td>\n",
       "      <td>1422.4</td>\n",
       "      <td>1382.2</td>\n",
       "      <td>2.283</td>\n",
       "      <td>7.282</td>\n",
       "      <td>None</td>\n",
       "      <td>None</td>\n",
       "      <td>root=[38.58189267106354, -109.51928375288844]</td>\n",
       "    </tr>\n",
       "    <tr>\n",
       "      <th>96</th>\n",
       "      <td>11841098247</td>\n",
       "      <td>It’s hot in Moab</td>\n",
       "      <td>2024-07-08 06:23:55+00:00</td>\n",
       "      <td>root='Ride'</td>\n",
       "      <td>81540.6</td>\n",
       "      <td>25066</td>\n",
       "      <td>32097</td>\n",
       "      <td>1493.0</td>\n",
       "      <td>1787.0</td>\n",
       "      <td>1351.6</td>\n",
       "      <td>3.253</td>\n",
       "      <td>12.150</td>\n",
       "      <td>None</td>\n",
       "      <td>None</td>\n",
       "      <td>root=[38.82998635992408, -109.76309403777122]</td>\n",
       "    </tr>\n",
       "    <tr>\n",
       "      <th>97</th>\n",
       "      <td>11833516073</td>\n",
       "      <td>Afternoon Mountain Bike Ride</td>\n",
       "      <td>2024-07-07 13:16:54+00:00</td>\n",
       "      <td>root='Ride'</td>\n",
       "      <td>23754.4</td>\n",
       "      <td>7462</td>\n",
       "      <td>8373</td>\n",
       "      <td>613.0</td>\n",
       "      <td>2870.8</td>\n",
       "      <td>2115.0</td>\n",
       "      <td>3.183</td>\n",
       "      <td>9.654</td>\n",
       "      <td>None</td>\n",
       "      <td>None</td>\n",
       "      <td>root=[40.62071057036519, -111.49269699119031]</td>\n",
       "    </tr>\n",
       "    <tr>\n",
       "      <th>98</th>\n",
       "      <td>11824067878</td>\n",
       "      <td>Morning Mountain Bike Ride</td>\n",
       "      <td>2024-07-06 09:09:55+00:00</td>\n",
       "      <td>root='Ride'</td>\n",
       "      <td>36879.9</td>\n",
       "      <td>7147</td>\n",
       "      <td>10108</td>\n",
       "      <td>317.0</td>\n",
       "      <td>3015.8</td>\n",
       "      <td>1510.4</td>\n",
       "      <td>5.160</td>\n",
       "      <td>17.814</td>\n",
       "      <td>None</td>\n",
       "      <td>None</td>\n",
       "      <td>root=[40.60672645457089, -111.55493513680995]</td>\n",
       "    </tr>\n",
       "    <tr>\n",
       "      <th>99</th>\n",
       "      <td>11811709097</td>\n",
       "      <td>Morning Mountain Bike Ride</td>\n",
       "      <td>2024-07-04 08:38:14+00:00</td>\n",
       "      <td>root='Ride'</td>\n",
       "      <td>22484.5</td>\n",
       "      <td>6092</td>\n",
       "      <td>7242</td>\n",
       "      <td>456.0</td>\n",
       "      <td>2340.0</td>\n",
       "      <td>1866.8</td>\n",
       "      <td>3.691</td>\n",
       "      <td>11.572</td>\n",
       "      <td>None</td>\n",
       "      <td>None</td>\n",
       "      <td>root=[43.465094743296504, -110.73087654076517]</td>\n",
       "    </tr>\n",
       "  </tbody>\n",
       "</table>\n",
       "<p>100 rows × 15 columns</p>\n",
       "</div>"
      ],
      "text/plain": [
       "             id                          name          start_date_local  \\\n",
       "0   12665226865                Evening trails 2024-10-15 17:12:16+00:00   \n",
       "1   12641047845       The whites are no joke… 2024-10-12 06:37:20+00:00   \n",
       "2   12625073046    1000 miles on the year 🎉🥳🎉 2024-10-10 17:31:08+00:00   \n",
       "3   12617170518                 Afternoon Run 2024-10-09 16:05:50+00:00   \n",
       "4   12605913498    Lithia springs foliage 🍁 🍂 2024-10-08 08:37:06+00:00   \n",
       "..          ...                           ...                       ...   \n",
       "95  11842205465  Afternoon Mountain Bike Ride 2024-07-08 17:59:32+00:00   \n",
       "96  11841098247              It’s hot in Moab 2024-07-08 06:23:55+00:00   \n",
       "97  11833516073  Afternoon Mountain Bike Ride 2024-07-07 13:16:54+00:00   \n",
       "98  11824067878    Morning Mountain Bike Ride 2024-07-06 09:09:55+00:00   \n",
       "99  11811709097    Morning Mountain Bike Ride 2024-07-04 08:38:14+00:00   \n",
       "\n",
       "           type  distance  moving_time  elapsed_time  total_elevation_gain  \\\n",
       "0    root='Run'   16124.5         5247          6000                  30.0   \n",
       "1    root='Run'   51534.1        38358         46976                3733.0   \n",
       "2    root='Run'    9373.8         3062          3546                  65.0   \n",
       "3    root='Run'    9539.5         2783          3807                  15.0   \n",
       "4    root='Run'   10019.6         6023          6179                 519.0   \n",
       "..          ...       ...          ...           ...                   ...   \n",
       "95  root='Ride'    4370.2         1914          2504                 158.0   \n",
       "96  root='Ride'   81540.6        25066         32097                1493.0   \n",
       "97  root='Ride'   23754.4         7462          8373                 613.0   \n",
       "98  root='Ride'   36879.9         7147         10108                 317.0   \n",
       "99  root='Ride'   22484.5         6092          7242                 456.0   \n",
       "\n",
       "    elev_high  elev_low  average_speed  max_speed average_heartrate  \\\n",
       "0        52.6       4.0          3.073      4.400              None   \n",
       "1      1555.0     352.2          1.344      4.838              None   \n",
       "2        59.8      13.0          3.061      4.808              None   \n",
       "3        42.0      31.4          3.428      6.054              None   \n",
       "4       323.8      58.8          1.664      4.026              None   \n",
       "..        ...       ...            ...        ...               ...   \n",
       "95     1422.4    1382.2          2.283      7.282              None   \n",
       "96     1787.0    1351.6          3.253     12.150              None   \n",
       "97     2870.8    2115.0          3.183      9.654              None   \n",
       "98     3015.8    1510.4          5.160     17.814              None   \n",
       "99     2340.0    1866.8          3.691     11.572              None   \n",
       "\n",
       "   max_heartrate                                    start_latlng  \n",
       "0           None    root=[42.054893262684345, -72.5780063867569]  \n",
       "1           None     root=[44.1816118452698, -71.39875140041113]  \n",
       "2           None    root=[42.05529768951237, -72.57778208702803]  \n",
       "3           None    root=[42.33548945747316, -72.62153243646026]  \n",
       "4           None    root=[42.30529775843024, -72.52873160876334]  \n",
       "..           ...                                             ...  \n",
       "95          None   root=[38.58189267106354, -109.51928375288844]  \n",
       "96          None   root=[38.82998635992408, -109.76309403777122]  \n",
       "97          None   root=[40.62071057036519, -111.49269699119031]  \n",
       "98          None   root=[40.60672645457089, -111.55493513680995]  \n",
       "99          None  root=[43.465094743296504, -110.73087654076517]  \n",
       "\n",
       "[100 rows x 15 columns]"
      ]
     },
     "execution_count": 34,
     "metadata": {},
     "output_type": "execute_result"
    }
   ],
   "source": [
    "df = pd.DataFrame(data, columns=my_cols)\n",
    "df"
   ]
  },
  {
   "cell_type": "code",
   "execution_count": null,
   "metadata": {},
   "outputs": [],
   "source": []
  }
 ],
 "metadata": {
  "kernelspec": {
   "display_name": "Python 3",
   "language": "python",
   "name": "python3"
  },
  "language_info": {
   "codemirror_mode": {
    "name": "ipython",
    "version": 3
   },
   "file_extension": ".py",
   "mimetype": "text/x-python",
   "name": "python",
   "nbconvert_exporter": "python",
   "pygments_lexer": "ipython3",
   "version": "3.12.7"
  }
 },
 "nbformat": 4,
 "nbformat_minor": 2
}
